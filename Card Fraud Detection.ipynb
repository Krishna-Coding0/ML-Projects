{
 "cells": [
  {
   "cell_type": "markdown",
   "id": "c241eab5",
   "metadata": {},
   "source": [
    "# Model to Detect Fraudulent Credit Card Transactions"
   ]
  },
  {
   "cell_type": "code",
   "execution_count": 1,
   "id": "eed92b05",
   "metadata": {
    "_cell_guid": "282306d1-abdb-4b43-8719-ea303ffffff1",
    "_uuid": "d47a1cfb-aa2d-4829-a379-0b714acd92fe",
    "collapsed": false,
    "execution": {
     "iopub.execute_input": "2023-09-05T10:16:58.406566Z",
     "iopub.status.busy": "2023-09-05T10:16:58.406138Z",
     "iopub.status.idle": "2023-09-05T10:17:00.883016Z",
     "shell.execute_reply": "2023-09-05T10:17:00.881748Z"
    },
    "jupyter": {
     "outputs_hidden": false
    },
    "papermill": {
     "duration": 2.497429,
     "end_time": "2023-09-05T10:17:00.885903",
     "exception": false,
     "start_time": "2023-09-05T10:16:58.388474",
     "status": "completed"
    },
    "tags": []
   },
   "outputs": [],
   "source": [
    "import pandas as pd\n",
    "import seaborn as sns\n",
    "import plotly.express as px\n",
    "import matplotlib.pyplot as plt\n",
    "from sklearn.linear_model import LogisticRegression\n",
    "from sklearn.ensemble import RandomForestClassifier\n",
    "from sklearn.tree import DecisionTreeClassifier\n",
    "from imblearn.over_sampling import SMOTE\n",
    "from sklearn.preprocessing import StandardScaler\n",
    "\n"
   ]
  },
  {
   "cell_type": "code",
   "execution_count": 46,
   "id": "9e9d1dda",
   "metadata": {
    "_cell_guid": "0e5b0c6a-f3da-4bc6-a92c-e60d01704707",
    "_uuid": "b9c2b53b-790a-4ce2-a9cc-a4cbc1e730df",
    "collapsed": false,
    "execution": {
     "iopub.execute_input": "2023-09-05T10:17:00.950032Z",
     "iopub.status.busy": "2023-09-05T10:17:00.949265Z",
     "iopub.status.idle": "2023-09-05T10:17:19.720825Z",
     "shell.execute_reply": "2023-09-05T10:17:19.719494Z"
    },
    "jupyter": {
     "outputs_hidden": false
    },
    "papermill": {
     "duration": 18.791177,
     "end_time": "2023-09-05T10:17:19.723846",
     "exception": false,
     "start_time": "2023-09-05T10:17:00.932669",
     "status": "completed"
    },
    "tags": []
   },
   "outputs": [],
   "source": [
    "train_df=pd.read_csv('./Task 2 Data/fraudTrain.csv')\n",
    "test_df=pd.read_csv('./Task 2 Data/fraudTest.csv')"
   ]
  },
  {
   "cell_type": "code",
   "execution_count": 47,
   "id": "7b97fd61",
   "metadata": {
    "_cell_guid": "26ccea22-6427-4578-a38c-47ee0a1a6ecd",
    "_uuid": "f162fc86-ef38-45f6-8e7c-ee7219e914b2",
    "collapsed": false,
    "execution": {
     "iopub.execute_input": "2023-09-05T10:17:19.757402Z",
     "iopub.status.busy": "2023-09-05T10:17:19.756487Z",
     "iopub.status.idle": "2023-09-05T10:17:19.801613Z",
     "shell.execute_reply": "2023-09-05T10:17:19.800179Z"
    },
    "jupyter": {
     "outputs_hidden": false
    },
    "papermill": {
     "duration": 0.064921,
     "end_time": "2023-09-05T10:17:19.804363",
     "exception": false,
     "start_time": "2023-09-05T10:17:19.739442",
     "status": "completed"
    },
    "tags": []
   },
   "outputs": [
    {
     "data": {
      "text/html": [
       "<div>\n",
       "<style scoped>\n",
       "    .dataframe tbody tr th:only-of-type {\n",
       "        vertical-align: middle;\n",
       "    }\n",
       "\n",
       "    .dataframe tbody tr th {\n",
       "        vertical-align: top;\n",
       "    }\n",
       "\n",
       "    .dataframe thead th {\n",
       "        text-align: right;\n",
       "    }\n",
       "</style>\n",
       "<table border=\"1\" class=\"dataframe\">\n",
       "  <thead>\n",
       "    <tr style=\"text-align: right;\">\n",
       "      <th></th>\n",
       "      <th>Unnamed: 0</th>\n",
       "      <th>trans_date_trans_time</th>\n",
       "      <th>cc_num</th>\n",
       "      <th>merchant</th>\n",
       "      <th>category</th>\n",
       "      <th>amt</th>\n",
       "      <th>first</th>\n",
       "      <th>last</th>\n",
       "      <th>gender</th>\n",
       "      <th>street</th>\n",
       "      <th>...</th>\n",
       "      <th>lat</th>\n",
       "      <th>long</th>\n",
       "      <th>city_pop</th>\n",
       "      <th>job</th>\n",
       "      <th>dob</th>\n",
       "      <th>trans_num</th>\n",
       "      <th>unix_time</th>\n",
       "      <th>merch_lat</th>\n",
       "      <th>merch_long</th>\n",
       "      <th>is_fraud</th>\n",
       "    </tr>\n",
       "  </thead>\n",
       "  <tbody>\n",
       "    <tr>\n",
       "      <th>0</th>\n",
       "      <td>0</td>\n",
       "      <td>2019-01-01 00:00:18</td>\n",
       "      <td>2703186189652095</td>\n",
       "      <td>fraud_Rippin, Kub and Mann</td>\n",
       "      <td>misc_net</td>\n",
       "      <td>4.97</td>\n",
       "      <td>Jennifer</td>\n",
       "      <td>Banks</td>\n",
       "      <td>F</td>\n",
       "      <td>561 Perry Cove</td>\n",
       "      <td>...</td>\n",
       "      <td>36.0788</td>\n",
       "      <td>-81.1781</td>\n",
       "      <td>3495</td>\n",
       "      <td>Psychologist, counselling</td>\n",
       "      <td>1988-03-09</td>\n",
       "      <td>0b242abb623afc578575680df30655b9</td>\n",
       "      <td>1325376018</td>\n",
       "      <td>36.011293</td>\n",
       "      <td>-82.048315</td>\n",
       "      <td>0</td>\n",
       "    </tr>\n",
       "    <tr>\n",
       "      <th>1</th>\n",
       "      <td>1</td>\n",
       "      <td>2019-01-01 00:00:44</td>\n",
       "      <td>630423337322</td>\n",
       "      <td>fraud_Heller, Gutmann and Zieme</td>\n",
       "      <td>grocery_pos</td>\n",
       "      <td>107.23</td>\n",
       "      <td>Stephanie</td>\n",
       "      <td>Gill</td>\n",
       "      <td>F</td>\n",
       "      <td>43039 Riley Greens Suite 393</td>\n",
       "      <td>...</td>\n",
       "      <td>48.8878</td>\n",
       "      <td>-118.2105</td>\n",
       "      <td>149</td>\n",
       "      <td>Special educational needs teacher</td>\n",
       "      <td>1978-06-21</td>\n",
       "      <td>1f76529f8574734946361c461b024d99</td>\n",
       "      <td>1325376044</td>\n",
       "      <td>49.159047</td>\n",
       "      <td>-118.186462</td>\n",
       "      <td>0</td>\n",
       "    </tr>\n",
       "    <tr>\n",
       "      <th>2</th>\n",
       "      <td>2</td>\n",
       "      <td>2019-01-01 00:00:51</td>\n",
       "      <td>38859492057661</td>\n",
       "      <td>fraud_Lind-Buckridge</td>\n",
       "      <td>entertainment</td>\n",
       "      <td>220.11</td>\n",
       "      <td>Edward</td>\n",
       "      <td>Sanchez</td>\n",
       "      <td>M</td>\n",
       "      <td>594 White Dale Suite 530</td>\n",
       "      <td>...</td>\n",
       "      <td>42.1808</td>\n",
       "      <td>-112.2620</td>\n",
       "      <td>4154</td>\n",
       "      <td>Nature conservation officer</td>\n",
       "      <td>1962-01-19</td>\n",
       "      <td>a1a22d70485983eac12b5b88dad1cf95</td>\n",
       "      <td>1325376051</td>\n",
       "      <td>43.150704</td>\n",
       "      <td>-112.154481</td>\n",
       "      <td>0</td>\n",
       "    </tr>\n",
       "    <tr>\n",
       "      <th>3</th>\n",
       "      <td>3</td>\n",
       "      <td>2019-01-01 00:01:16</td>\n",
       "      <td>3534093764340240</td>\n",
       "      <td>fraud_Kutch, Hermiston and Farrell</td>\n",
       "      <td>gas_transport</td>\n",
       "      <td>45.00</td>\n",
       "      <td>Jeremy</td>\n",
       "      <td>White</td>\n",
       "      <td>M</td>\n",
       "      <td>9443 Cynthia Court Apt. 038</td>\n",
       "      <td>...</td>\n",
       "      <td>46.2306</td>\n",
       "      <td>-112.1138</td>\n",
       "      <td>1939</td>\n",
       "      <td>Patent attorney</td>\n",
       "      <td>1967-01-12</td>\n",
       "      <td>6b849c168bdad6f867558c3793159a81</td>\n",
       "      <td>1325376076</td>\n",
       "      <td>47.034331</td>\n",
       "      <td>-112.561071</td>\n",
       "      <td>0</td>\n",
       "    </tr>\n",
       "    <tr>\n",
       "      <th>4</th>\n",
       "      <td>4</td>\n",
       "      <td>2019-01-01 00:03:06</td>\n",
       "      <td>375534208663984</td>\n",
       "      <td>fraud_Keeling-Crist</td>\n",
       "      <td>misc_pos</td>\n",
       "      <td>41.96</td>\n",
       "      <td>Tyler</td>\n",
       "      <td>Garcia</td>\n",
       "      <td>M</td>\n",
       "      <td>408 Bradley Rest</td>\n",
       "      <td>...</td>\n",
       "      <td>38.4207</td>\n",
       "      <td>-79.4629</td>\n",
       "      <td>99</td>\n",
       "      <td>Dance movement psychotherapist</td>\n",
       "      <td>1986-03-28</td>\n",
       "      <td>a41d7549acf90789359a9aa5346dcb46</td>\n",
       "      <td>1325376186</td>\n",
       "      <td>38.674999</td>\n",
       "      <td>-78.632459</td>\n",
       "      <td>0</td>\n",
       "    </tr>\n",
       "  </tbody>\n",
       "</table>\n",
       "<p>5 rows × 23 columns</p>\n",
       "</div>"
      ],
      "text/plain": [
       "   Unnamed: 0 trans_date_trans_time            cc_num  \\\n",
       "0           0   2019-01-01 00:00:18  2703186189652095   \n",
       "1           1   2019-01-01 00:00:44      630423337322   \n",
       "2           2   2019-01-01 00:00:51    38859492057661   \n",
       "3           3   2019-01-01 00:01:16  3534093764340240   \n",
       "4           4   2019-01-01 00:03:06   375534208663984   \n",
       "\n",
       "                             merchant       category     amt      first  \\\n",
       "0          fraud_Rippin, Kub and Mann       misc_net    4.97   Jennifer   \n",
       "1     fraud_Heller, Gutmann and Zieme    grocery_pos  107.23  Stephanie   \n",
       "2                fraud_Lind-Buckridge  entertainment  220.11     Edward   \n",
       "3  fraud_Kutch, Hermiston and Farrell  gas_transport   45.00     Jeremy   \n",
       "4                 fraud_Keeling-Crist       misc_pos   41.96      Tyler   \n",
       "\n",
       "      last gender                        street  ...      lat      long  \\\n",
       "0    Banks      F                561 Perry Cove  ...  36.0788  -81.1781   \n",
       "1     Gill      F  43039 Riley Greens Suite 393  ...  48.8878 -118.2105   \n",
       "2  Sanchez      M      594 White Dale Suite 530  ...  42.1808 -112.2620   \n",
       "3    White      M   9443 Cynthia Court Apt. 038  ...  46.2306 -112.1138   \n",
       "4   Garcia      M              408 Bradley Rest  ...  38.4207  -79.4629   \n",
       "\n",
       "   city_pop                                job         dob  \\\n",
       "0      3495          Psychologist, counselling  1988-03-09   \n",
       "1       149  Special educational needs teacher  1978-06-21   \n",
       "2      4154        Nature conservation officer  1962-01-19   \n",
       "3      1939                    Patent attorney  1967-01-12   \n",
       "4        99     Dance movement psychotherapist  1986-03-28   \n",
       "\n",
       "                          trans_num   unix_time  merch_lat  merch_long  \\\n",
       "0  0b242abb623afc578575680df30655b9  1325376018  36.011293  -82.048315   \n",
       "1  1f76529f8574734946361c461b024d99  1325376044  49.159047 -118.186462   \n",
       "2  a1a22d70485983eac12b5b88dad1cf95  1325376051  43.150704 -112.154481   \n",
       "3  6b849c168bdad6f867558c3793159a81  1325376076  47.034331 -112.561071   \n",
       "4  a41d7549acf90789359a9aa5346dcb46  1325376186  38.674999  -78.632459   \n",
       "\n",
       "   is_fraud  \n",
       "0         0  \n",
       "1         0  \n",
       "2         0  \n",
       "3         0  \n",
       "4         0  \n",
       "\n",
       "[5 rows x 23 columns]"
      ]
     },
     "execution_count": 47,
     "metadata": {},
     "output_type": "execute_result"
    }
   ],
   "source": [
    "train_df.head()"
   ]
  },
  {
   "cell_type": "code",
   "execution_count": 48,
   "id": "5d34c202",
   "metadata": {},
   "outputs": [
    {
     "data": {
      "text/plain": [
       "Film/video editor             9779\n",
       "Exhibition designer           9199\n",
       "Naval architect               8684\n",
       "Surveyor, land/geomatics      8680\n",
       "Materials engineer            8270\n",
       "                              ... \n",
       "Information officer              8\n",
       "Veterinary surgeon               8\n",
       "Ship broker                      7\n",
       "Contracting civil engineer       7\n",
       "Warehouse manager                7\n",
       "Name: job, Length: 494, dtype: int64"
      ]
     },
     "execution_count": 48,
     "metadata": {},
     "output_type": "execute_result"
    }
   ],
   "source": [
    "train_df['job'].value_counts()"
   ]
  },
  {
   "cell_type": "code",
   "execution_count": 49,
   "id": "85ffe9d2",
   "metadata": {},
   "outputs": [
    {
     "data": {
      "image/png": "[encoded data removed]",
      "text/plain": [
       "<Figure size 300x400 with 1 Axes>"
      ]
     },
     "metadata": {},
     "output_type": "display_data"
    }
   ],
   "source": [
    "plt.figure(figsize=(3,4))\n",
    "ax = sns.countplot(x='is_fraud',data=train_df,)\n",
    "for i in ax.containers:\n",
    "    ax.bar_label(i,)"
   ]
  },
  {
   "cell_type": "code",
   "execution_count": 50,
   "id": "aa612a24",
   "metadata": {
    "_cell_guid": "18dc7dd4-cead-4668-9cfc-70f84c315993",
    "_uuid": "32a6604d-d28d-4379-b95e-d28681a0626a",
    "collapsed": false,
    "execution": {
     "iopub.execute_input": "2023-09-05T10:17:22.223550Z",
     "iopub.status.busy": "2023-09-05T10:17:22.222709Z",
     "iopub.status.idle": "2023-09-05T10:17:22.263567Z",
     "shell.execute_reply": "2023-09-05T10:17:22.262426Z"
    },
    "jupyter": {
     "outputs_hidden": false
    },
    "papermill": {
     "duration": 0.069347,
     "end_time": "2023-09-05T10:17:22.265998",
     "exception": false,
     "start_time": "2023-09-05T10:17:22.196651",
     "status": "completed"
    },
    "tags": []
   },
   "outputs": [
    {
     "name": "stdout",
     "output_type": "stream",
     "text": [
      "Genuine: 99.42 % of the dataset\n",
      "Frauds: 0.58 % of the dataset\n"
     ]
    }
   ],
   "source": [
    "print('Genuine:', round(train_df['is_fraud'].value_counts()[0]/len(train_df) * 100,2), '% of the dataset')\n",
    "print('Frauds:', round(train_df['is_fraud'].value_counts()[1]/len(train_df) * 100,2), '% of the dataset')"
   ]
  },
  {
   "cell_type": "code",
   "execution_count": 54,
   "id": "2530de29",
   "metadata": {
    "_cell_guid": "9941dbef-532a-4771-8068-7afe93ea5025",
    "_uuid": "16e77372-3b18-4109-ba22-ebad5119c5dd",
    "collapsed": false,
    "execution": {
     "iopub.execute_input": "2023-09-05T10:17:22.374344Z",
     "iopub.status.busy": "2023-09-05T10:17:22.373524Z",
     "iopub.status.idle": "2023-09-05T10:17:29.445115Z",
     "shell.execute_reply": "2023-09-05T10:17:29.443900Z"
    },
    "jupyter": {
     "outputs_hidden": false
    },
    "papermill": {
     "duration": 7.092893,
     "end_time": "2023-09-05T10:17:29.447737",
     "exception": false,
     "start_time": "2023-09-05T10:17:22.354844",
     "status": "completed"
    },
    "tags": []
   },
   "outputs": [
    {
     "name": "stdout",
     "output_type": "stream",
     "text": [
      "<class 'pandas.core.frame.DataFrame'>\n",
      "RangeIndex: 1296675 entries, 0 to 1296674\n",
      "Data columns (total 23 columns):\n",
      " #   Column                 Non-Null Count    Dtype  \n",
      "---  ------                 --------------    -----  \n",
      " 0   Unnamed: 0             1296675 non-null  int64  \n",
      " 1   trans_date_trans_time  1296675 non-null  object \n",
      " 2   cc_num                 1296675 non-null  int64  \n",
      " 3   merchant               1296675 non-null  object \n",
      " 4   category               1296675 non-null  object \n",
      " 5   amt                    1296675 non-null  float64\n",
      " 6   first                  1296675 non-null  object \n",
      " 7   last                   1296675 non-null  object \n",
      " 8   gender                 1296675 non-null  object \n",
      " 9   street                 1296675 non-null  object \n",
      " 10  city                   1296675 non-null  object \n",
      " 11  state                  1296675 non-null  object \n",
      " 12  zip                    1296675 non-null  int64  \n",
      " 13  lat                    1296675 non-null  float64\n",
      " 14  long                   1296675 non-null  float64\n",
      " 15  city_pop               1296675 non-null  int64  \n",
      " 16  job                    1296675 non-null  object \n",
      " 17  dob                    1296675 non-null  object \n",
      " 18  trans_num              1296675 non-null  object \n",
      " 19  unix_time              1296675 non-null  int64  \n",
      " 20  merch_lat              1296675 non-null  float64\n",
      " 21  merch_long             1296675 non-null  float64\n",
      " 22  is_fraud               1296675 non-null  int64  \n",
      "dtypes: float64(5), int64(6), object(12)\n",
      "memory usage: 227.5+ MB\n",
      "<class 'pandas.core.frame.DataFrame'>\n",
      "RangeIndex: 555719 entries, 0 to 555718\n",
      "Data columns (total 23 columns):\n",
      " #   Column                 Non-Null Count   Dtype  \n",
      "---  ------                 --------------   -----  \n",
      " 0   Unnamed: 0             555719 non-null  int64  \n",
      " 1   trans_date_trans_time  555719 non-null  object \n",
      " 2   cc_num                 555719 non-null  int64  \n",
      " 3   merchant               555719 non-null  object \n",
      " 4   category               555719 non-null  object \n",
      " 5   amt                    555719 non-null  float64\n",
      " 6   first                  555719 non-null  object \n",
      " 7   last                   555719 non-null  object \n",
      " 8   gender                 555719 non-null  object \n",
      " 9   street                 555719 non-null  object \n",
      " 10  city                   555719 non-null  object \n",
      " 11  state                  555719 non-null  object \n",
      " 12  zip                    555719 non-null  int64  \n",
      " 13  lat                    555719 non-null  float64\n",
      " 14  long                   555719 non-null  float64\n",
      " 15  city_pop               555719 non-null  int64  \n",
      " 16  job                    555719 non-null  object \n",
      " 17  dob                    555719 non-null  object \n",
      " 18  trans_num              555719 non-null  object \n",
      " 19  unix_time              555719 non-null  int64  \n",
      " 20  merch_lat              555719 non-null  float64\n",
      " 21  merch_long             555719 non-null  float64\n",
      " 22  is_fraud               555719 non-null  int64  \n",
      "dtypes: float64(5), int64(6), object(12)\n",
      "memory usage: 97.5+ MB\n"
     ]
    },
    {
     "data": {
      "text/plain": [
       "(None, None)"
      ]
     },
     "execution_count": 54,
     "metadata": {},
     "output_type": "execute_result"
    }
   ],
   "source": [
    "train_df.info(),test_df.info()"
   ]
  },
  {
   "cell_type": "code",
   "execution_count": 11,
   "id": "feaa8466",
   "metadata": {
    "_cell_guid": "e7bdb7dc-e32f-440c-8742-4013bc5a1696",
    "_uuid": "6720cc3e-008f-47b8-9fbb-a007399dbb34",
    "collapsed": false,
    "execution": {
     "iopub.execute_input": "2023-09-05T10:17:36.615234Z",
     "iopub.status.busy": "2023-09-05T10:17:36.614806Z",
     "iopub.status.idle": "2023-09-05T10:17:36.802979Z",
     "shell.execute_reply": "2023-09-05T10:17:36.801906Z"
    },
    "jupyter": {
     "outputs_hidden": false
    },
    "papermill": {
     "duration": 0.210448,
     "end_time": "2023-09-05T10:17:36.805856",
     "exception": false,
     "start_time": "2023-09-05T10:17:36.595408",
     "status": "completed"
    },
    "tags": []
   },
   "outputs": [],
   "source": [
    "drop_columns = ['Unnamed: 0','cc_num','merchant','trans_num','unix_time','first','last','street','zip']\n",
    "train_df.drop(columns=drop_columns,inplace=True)\n",
    "test_df.drop(columns=drop_columns,inplace=True)"
   ]
  },
  {
   "cell_type": "code",
   "execution_count": 13,
   "id": "f2d0c9c5",
   "metadata": {},
   "outputs": [
    {
     "data": {
      "text/html": [
       "<div>\n",
       "<style scoped>\n",
       "    .dataframe tbody tr th:only-of-type {\n",
       "        vertical-align: middle;\n",
       "    }\n",
       "\n",
       "    .dataframe tbody tr th {\n",
       "        vertical-align: top;\n",
       "    }\n",
       "\n",
       "    .dataframe thead th {\n",
       "        text-align: right;\n",
       "    }\n",
       "</style>\n",
       "<table border=\"1\" class=\"dataframe\">\n",
       "  <thead>\n",
       "    <tr style=\"text-align: right;\">\n",
       "      <th></th>\n",
       "      <th>trans_date_trans_time</th>\n",
       "      <th>category</th>\n",
       "      <th>amt</th>\n",
       "      <th>gender</th>\n",
       "      <th>city</th>\n",
       "      <th>state</th>\n",
       "      <th>lat</th>\n",
       "      <th>long</th>\n",
       "      <th>city_pop</th>\n",
       "      <th>job</th>\n",
       "      <th>dob</th>\n",
       "      <th>merch_lat</th>\n",
       "      <th>merch_long</th>\n",
       "      <th>is_fraud</th>\n",
       "    </tr>\n",
       "  </thead>\n",
       "  <tbody>\n",
       "    <tr>\n",
       "      <th>0</th>\n",
       "      <td>2020-06-21 12:14:25</td>\n",
       "      <td>personal_care</td>\n",
       "      <td>2.86</td>\n",
       "      <td>M</td>\n",
       "      <td>Columbia</td>\n",
       "      <td>SC</td>\n",
       "      <td>33.9659</td>\n",
       "      <td>-80.9355</td>\n",
       "      <td>333497</td>\n",
       "      <td>Mechanical engineer</td>\n",
       "      <td>1968-03-19</td>\n",
       "      <td>33.986391</td>\n",
       "      <td>-81.200714</td>\n",
       "      <td>0</td>\n",
       "    </tr>\n",
       "    <tr>\n",
       "      <th>1</th>\n",
       "      <td>2020-06-21 12:14:33</td>\n",
       "      <td>personal_care</td>\n",
       "      <td>29.84</td>\n",
       "      <td>F</td>\n",
       "      <td>Altonah</td>\n",
       "      <td>UT</td>\n",
       "      <td>40.3207</td>\n",
       "      <td>-110.4360</td>\n",
       "      <td>302</td>\n",
       "      <td>Sales professional, IT</td>\n",
       "      <td>1990-01-17</td>\n",
       "      <td>39.450498</td>\n",
       "      <td>-109.960431</td>\n",
       "      <td>0</td>\n",
       "    </tr>\n",
       "    <tr>\n",
       "      <th>2</th>\n",
       "      <td>2020-06-21 12:14:53</td>\n",
       "      <td>health_fitness</td>\n",
       "      <td>41.28</td>\n",
       "      <td>F</td>\n",
       "      <td>Bellmore</td>\n",
       "      <td>NY</td>\n",
       "      <td>40.6729</td>\n",
       "      <td>-73.5365</td>\n",
       "      <td>34496</td>\n",
       "      <td>Librarian, public</td>\n",
       "      <td>1970-10-21</td>\n",
       "      <td>40.495810</td>\n",
       "      <td>-74.196111</td>\n",
       "      <td>0</td>\n",
       "    </tr>\n",
       "  </tbody>\n",
       "</table>\n",
       "</div>"
      ],
      "text/plain": [
       "  trans_date_trans_time        category    amt gender      city state  \\\n",
       "0   2020-06-21 12:14:25   personal_care   2.86      M  Columbia    SC   \n",
       "1   2020-06-21 12:14:33   personal_care  29.84      F   Altonah    UT   \n",
       "2   2020-06-21 12:14:53  health_fitness  41.28      F  Bellmore    NY   \n",
       "\n",
       "       lat      long  city_pop                     job         dob  merch_lat  \\\n",
       "0  33.9659  -80.9355    333497     Mechanical engineer  1968-03-19  33.986391   \n",
       "1  40.3207 -110.4360       302  Sales professional, IT  1990-01-17  39.450498   \n",
       "2  40.6729  -73.5365     34496       Librarian, public  1970-10-21  40.495810   \n",
       "\n",
       "   merch_long  is_fraud  \n",
       "0  -81.200714         0  \n",
       "1 -109.960431         0  \n",
       "2  -74.196111         0  "
      ]
     },
     "execution_count": 13,
     "metadata": {},
     "output_type": "execute_result"
    }
   ],
   "source": [
    "train_df.head(3)"
   ]
  },
  {
   "cell_type": "code",
   "execution_count": 16,
   "id": "a1cb4ee2",
   "metadata": {
    "_cell_guid": "f19b37e2-50f5-481c-84c5-9abae0e583f9",
    "_uuid": "884b0046-f8d6-4a9a-ad1f-785b03f0f455",
    "collapsed": false,
    "execution": {
     "iopub.execute_input": "2023-09-05T10:17:36.921920Z",
     "iopub.status.busy": "2023-09-05T10:17:36.921525Z",
     "iopub.status.idle": "2023-09-05T10:17:41.061367Z",
     "shell.execute_reply": "2023-09-05T10:17:41.060268Z"
    },
    "jupyter": {
     "outputs_hidden": false
    },
    "papermill": {
     "duration": 4.161408,
     "end_time": "2023-09-05T10:17:41.064063",
     "exception": false,
     "start_time": "2023-09-05T10:17:36.902655",
     "status": "completed"
    },
    "tags": []
   },
   "outputs": [],
   "source": [
    "train_df['trans_date_trans_time']=pd.to_datetime(train_df['trans_date_trans_time'])\n",
    "train_df['trans_date']=train_df['trans_date_trans_time'].dt.strftime('%Y-%m-%d')\n",
    "train_df['trans_date']=pd.to_datetime(train_df['trans_date'])\n",
    "train_df['dob']=pd.to_datetime(train_df['dob'])\n",
    "\n",
    "test_df['trans_date_trans_time']=pd.to_datetime(test_df['trans_date_trans_time'])\n",
    "test_df['trans_date']=test_df['trans_date_trans_time'].dt.strftime('%Y-%m-%d')\n",
    "test_df['trans_date']=pd.to_datetime(test_df['trans_date'])\n",
    "test_df['dob']=pd.to_datetime(test_df['dob'])"
   ]
  },
  {
   "cell_type": "code",
   "execution_count": 17,
   "id": "5fb4ee7b",
   "metadata": {
    "_cell_guid": "244777b2-b3b6-400d-9cd7-2dd79ccecf0f",
    "_uuid": "cb2541b1-8762-4221-859c-a00ae712188a",
    "collapsed": false,
    "execution": {
     "iopub.execute_input": "2023-09-05T10:17:41.169934Z",
     "iopub.status.busy": "2023-09-05T10:17:41.169535Z",
     "iopub.status.idle": "2023-09-05T10:17:41.316715Z",
     "shell.execute_reply": "2023-09-05T10:17:41.315431Z"
    },
    "jupyter": {
     "outputs_hidden": false
    },
    "papermill": {
     "duration": 0.16885,
     "end_time": "2023-09-05T10:17:41.319602",
     "exception": false,
     "start_time": "2023-09-05T10:17:41.150752",
     "status": "completed"
    },
    "tags": []
   },
   "outputs": [],
   "source": [
    "train_df[\"age\"] = train_df[\"trans_date\"]-train_df[\"dob\"]\n",
    "train_df[\"age\"]=train_df[\"age\"].astype('timedelta64[Y]')\n",
    "\n",
    "test_df[\"age\"] = test_df[\"trans_date\"]-test_df[\"dob\"]\n",
    "test_df[\"age\"]=test_df[\"age\"].astype('timedelta64[Y]')"
   ]
  },
  {
   "cell_type": "code",
   "execution_count": 18,
   "id": "6ef45004",
   "metadata": {
    "_cell_guid": "588a1620-c10a-410d-bdc0-c83fb35c7a66",
    "_uuid": "ca5ca60b-8f29-4a47-b5db-bd4d0c1cf3c9",
    "collapsed": false,
    "execution": {
     "iopub.execute_input": "2023-09-05T10:17:41.356140Z",
     "iopub.status.busy": "2023-09-05T10:17:41.355730Z",
     "iopub.status.idle": "2023-09-05T10:17:41.602593Z",
     "shell.execute_reply": "2023-09-05T10:17:41.601359Z"
    },
    "jupyter": {
     "outputs_hidden": false
    },
    "papermill": {
     "duration": 0.2681,
     "end_time": "2023-09-05T10:17:41.605389",
     "exception": false,
     "start_time": "2023-09-05T10:17:41.337289",
     "status": "completed"
    },
    "tags": []
   },
   "outputs": [],
   "source": [
    "train_df['trans_month'] = pd.DatetimeIndex(train_df['trans_date']).month\n",
    "train_df['trans_year'] = pd.DatetimeIndex(train_df['trans_date']).year"
   ]
  },
  {
   "cell_type": "code",
   "execution_count": 19,
   "id": "fc1bc58a",
   "metadata": {
    "_cell_guid": "42fe896e-b1ee-4cb0-aead-ba326c3a023f",
    "_uuid": "a3d9c71b-fac6-483f-8121-e1087719fa91",
    "collapsed": false,
    "execution": {
     "iopub.execute_input": "2023-09-05T10:17:41.642031Z",
     "iopub.status.busy": "2023-09-05T10:17:41.641588Z",
     "iopub.status.idle": "2023-09-05T10:17:41.681714Z",
     "shell.execute_reply": "2023-09-05T10:17:41.680466Z"
    },
    "jupyter": {
     "outputs_hidden": false
    },
    "papermill": {
     "duration": 0.061982,
     "end_time": "2023-09-05T10:17:41.684393",
     "exception": false,
     "start_time": "2023-09-05T10:17:41.622411",
     "status": "completed"
    },
    "tags": []
   },
   "outputs": [],
   "source": [
    "train_df['latitudinal_distance'] = abs(round(train_df['merch_lat']-train_df['lat'],3))\n",
    "train_df['longitudinal_distance'] = abs(round(train_df['merch_long']-train_df['long'],3))\n",
    "\n",
    "test_df['latitudinal_distance'] = abs(round(test_df['merch_lat']-test_df['lat'],3))\n",
    "test_df['longitudinal_distance'] = abs(round(test_df['merch_long']-test_df['long'],3))"
   ]
  },
  {
   "cell_type": "code",
   "execution_count": 20,
   "id": "dfca4d7e",
   "metadata": {
    "_cell_guid": "2754bb04-d3ad-437c-af05-54b5a685151c",
    "_uuid": "32ae0e98-47c9-4cef-9975-bceefcb81e86",
    "collapsed": false,
    "execution": {
     "iopub.execute_input": "2023-09-05T10:17:41.721113Z",
     "iopub.status.busy": "2023-09-05T10:17:41.720726Z",
     "iopub.status.idle": "2023-09-05T10:17:41.849160Z",
     "shell.execute_reply": "2023-09-05T10:17:41.848062Z"
    },
    "jupyter": {
     "outputs_hidden": false
    },
    "papermill": {
     "duration": 0.149905,
     "end_time": "2023-09-05T10:17:41.851959",
     "exception": false,
     "start_time": "2023-09-05T10:17:41.702054",
     "status": "completed"
    },
    "tags": []
   },
   "outputs": [],
   "source": [
    "drop_columns = ['trans_date_trans_time','city','lat','long','job','dob','merch_lat','merch_long','trans_date','state']\n",
    "train_df.drop(columns=drop_columns,inplace=True)\n",
    "test_df.drop(columns=drop_columns,inplace=True)"
   ]
  },
  {
   "cell_type": "code",
   "execution_count": 21,
   "id": "6237c8e5",
   "metadata": {
    "_cell_guid": "642c6b11-b9c1-45b8-ba4b-f1ecaf915cc7",
    "_uuid": "645d992c-4e40-456e-bfeb-01db3100e294",
    "collapsed": false,
    "execution": {
     "iopub.execute_input": "2023-09-05T10:17:41.889164Z",
     "iopub.status.busy": "2023-09-05T10:17:41.888708Z",
     "iopub.status.idle": "2023-09-05T10:17:43.288246Z",
     "shell.execute_reply": "2023-09-05T10:17:43.287077Z"
    },
    "jupyter": {
     "outputs_hidden": false
    },
    "papermill": {
     "duration": 1.421321,
     "end_time": "2023-09-05T10:17:43.290972",
     "exception": false,
     "start_time": "2023-09-05T10:17:41.869651",
     "status": "completed"
    },
    "tags": []
   },
   "outputs": [],
   "source": [
    "train_df.gender=train_df.gender.apply(lambda x: 1 if x==\"M\" else 0)\n",
    "test_df.gender=test_df.gender.apply(lambda x: 1 if x==\"M\" else 0)"
   ]
  },
  {
   "cell_type": "code",
   "execution_count": 22,
   "id": "23d98b36",
   "metadata": {
    "_cell_guid": "b456b62e-4b16-49c4-985d-17e2a5a0f408",
    "_uuid": "46e3d06d-e96e-4fc7-8c4d-7ab0796fe99d",
    "collapsed": false,
    "execution": {
     "iopub.execute_input": "2023-09-05T10:17:43.327426Z",
     "iopub.status.busy": "2023-09-05T10:17:43.327012Z",
     "iopub.status.idle": "2023-09-05T10:17:43.900924Z",
     "shell.execute_reply": "2023-09-05T10:17:43.899671Z"
    },
    "jupyter": {
     "outputs_hidden": false
    },
    "papermill": {
     "duration": 0.595292,
     "end_time": "2023-09-05T10:17:43.903686",
     "exception": false,
     "start_time": "2023-09-05T10:17:43.308394",
     "status": "completed"
    },
    "tags": []
   },
   "outputs": [],
   "source": [
    "train_df = pd.get_dummies(train_df, columns=['category'], prefix='category')\n",
    "test_df = pd.get_dummies(test_df, columns=['category'], prefix='category')\n",
    "\n",
    "test_df = test_df.reindex(columns=train_df.columns, fill_value=0)"
   ]
  },
  {
   "cell_type": "code",
   "execution_count": 23,
   "id": "d2c88786",
   "metadata": {
    "_cell_guid": "1783bf92-9d70-4375-acc1-385ef87e9cec",
    "_uuid": "62e01b72-638c-4ae3-9e53-74d695a22bdc",
    "collapsed": false,
    "execution": {
     "iopub.execute_input": "2023-09-05T10:17:43.940589Z",
     "iopub.status.busy": "2023-09-05T10:17:43.940159Z",
     "iopub.status.idle": "2023-09-05T10:17:43.963567Z",
     "shell.execute_reply": "2023-09-05T10:17:43.962274Z"
    },
    "jupyter": {
     "outputs_hidden": false
    },
    "papermill": {
     "duration": 0.0446,
     "end_time": "2023-09-05T10:17:43.965800",
     "exception": false,
     "start_time": "2023-09-05T10:17:43.921200",
     "status": "completed"
    },
    "tags": []
   },
   "outputs": [
    {
     "data": {
      "text/html": [
       "<div>\n",
       "<style scoped>\n",
       "    .dataframe tbody tr th:only-of-type {\n",
       "        vertical-align: middle;\n",
       "    }\n",
       "\n",
       "    .dataframe tbody tr th {\n",
       "        vertical-align: top;\n",
       "    }\n",
       "\n",
       "    .dataframe thead th {\n",
       "        text-align: right;\n",
       "    }\n",
       "</style>\n",
       "<table border=\"1\" class=\"dataframe\">\n",
       "  <thead>\n",
       "    <tr style=\"text-align: right;\">\n",
       "      <th></th>\n",
       "      <th>amt</th>\n",
       "      <th>gender</th>\n",
       "      <th>city_pop</th>\n",
       "      <th>is_fraud</th>\n",
       "      <th>age</th>\n",
       "      <th>trans_month</th>\n",
       "      <th>trans_year</th>\n",
       "      <th>latitudinal_distance</th>\n",
       "      <th>longitudinal_distance</th>\n",
       "      <th>category_entertainment</th>\n",
       "      <th>...</th>\n",
       "      <th>category_grocery_pos</th>\n",
       "      <th>category_health_fitness</th>\n",
       "      <th>category_home</th>\n",
       "      <th>category_kids_pets</th>\n",
       "      <th>category_misc_net</th>\n",
       "      <th>category_misc_pos</th>\n",
       "      <th>category_personal_care</th>\n",
       "      <th>category_shopping_net</th>\n",
       "      <th>category_shopping_pos</th>\n",
       "      <th>category_travel</th>\n",
       "    </tr>\n",
       "  </thead>\n",
       "  <tbody>\n",
       "    <tr>\n",
       "      <th>0</th>\n",
       "      <td>2.86</td>\n",
       "      <td>1</td>\n",
       "      <td>333497</td>\n",
       "      <td>0</td>\n",
       "      <td>52.0</td>\n",
       "      <td>6</td>\n",
       "      <td>2020</td>\n",
       "      <td>0.020</td>\n",
       "      <td>0.265</td>\n",
       "      <td>0</td>\n",
       "      <td>...</td>\n",
       "      <td>0</td>\n",
       "      <td>0</td>\n",
       "      <td>0</td>\n",
       "      <td>0</td>\n",
       "      <td>0</td>\n",
       "      <td>0</td>\n",
       "      <td>1</td>\n",
       "      <td>0</td>\n",
       "      <td>0</td>\n",
       "      <td>0</td>\n",
       "    </tr>\n",
       "    <tr>\n",
       "      <th>1</th>\n",
       "      <td>29.84</td>\n",
       "      <td>0</td>\n",
       "      <td>302</td>\n",
       "      <td>0</td>\n",
       "      <td>30.0</td>\n",
       "      <td>6</td>\n",
       "      <td>2020</td>\n",
       "      <td>0.870</td>\n",
       "      <td>0.476</td>\n",
       "      <td>0</td>\n",
       "      <td>...</td>\n",
       "      <td>0</td>\n",
       "      <td>0</td>\n",
       "      <td>0</td>\n",
       "      <td>0</td>\n",
       "      <td>0</td>\n",
       "      <td>0</td>\n",
       "      <td>1</td>\n",
       "      <td>0</td>\n",
       "      <td>0</td>\n",
       "      <td>0</td>\n",
       "    </tr>\n",
       "    <tr>\n",
       "      <th>2</th>\n",
       "      <td>41.28</td>\n",
       "      <td>0</td>\n",
       "      <td>34496</td>\n",
       "      <td>0</td>\n",
       "      <td>49.0</td>\n",
       "      <td>6</td>\n",
       "      <td>2020</td>\n",
       "      <td>0.177</td>\n",
       "      <td>0.660</td>\n",
       "      <td>0</td>\n",
       "      <td>...</td>\n",
       "      <td>0</td>\n",
       "      <td>1</td>\n",
       "      <td>0</td>\n",
       "      <td>0</td>\n",
       "      <td>0</td>\n",
       "      <td>0</td>\n",
       "      <td>0</td>\n",
       "      <td>0</td>\n",
       "      <td>0</td>\n",
       "      <td>0</td>\n",
       "    </tr>\n",
       "    <tr>\n",
       "      <th>3</th>\n",
       "      <td>60.05</td>\n",
       "      <td>1</td>\n",
       "      <td>54767</td>\n",
       "      <td>0</td>\n",
       "      <td>32.0</td>\n",
       "      <td>6</td>\n",
       "      <td>2020</td>\n",
       "      <td>0.243</td>\n",
       "      <td>0.064</td>\n",
       "      <td>0</td>\n",
       "      <td>...</td>\n",
       "      <td>0</td>\n",
       "      <td>0</td>\n",
       "      <td>0</td>\n",
       "      <td>0</td>\n",
       "      <td>0</td>\n",
       "      <td>1</td>\n",
       "      <td>0</td>\n",
       "      <td>0</td>\n",
       "      <td>0</td>\n",
       "      <td>0</td>\n",
       "    </tr>\n",
       "    <tr>\n",
       "      <th>4</th>\n",
       "      <td>3.19</td>\n",
       "      <td>1</td>\n",
       "      <td>1126</td>\n",
       "      <td>0</td>\n",
       "      <td>64.0</td>\n",
       "      <td>6</td>\n",
       "      <td>2020</td>\n",
       "      <td>0.706</td>\n",
       "      <td>0.868</td>\n",
       "      <td>0</td>\n",
       "      <td>...</td>\n",
       "      <td>0</td>\n",
       "      <td>0</td>\n",
       "      <td>0</td>\n",
       "      <td>0</td>\n",
       "      <td>0</td>\n",
       "      <td>0</td>\n",
       "      <td>0</td>\n",
       "      <td>0</td>\n",
       "      <td>0</td>\n",
       "      <td>1</td>\n",
       "    </tr>\n",
       "  </tbody>\n",
       "</table>\n",
       "<p>5 rows × 23 columns</p>\n",
       "</div>"
      ],
      "text/plain": [
       "     amt  gender  city_pop  is_fraud   age  trans_month  trans_year  \\\n",
       "0   2.86       1    333497         0  52.0            6        2020   \n",
       "1  29.84       0       302         0  30.0            6        2020   \n",
       "2  41.28       0     34496         0  49.0            6        2020   \n",
       "3  60.05       1     54767         0  32.0            6        2020   \n",
       "4   3.19       1      1126         0  64.0            6        2020   \n",
       "\n",
       "   latitudinal_distance  longitudinal_distance  category_entertainment  ...  \\\n",
       "0                 0.020                  0.265                       0  ...   \n",
       "1                 0.870                  0.476                       0  ...   \n",
       "2                 0.177                  0.660                       0  ...   \n",
       "3                 0.243                  0.064                       0  ...   \n",
       "4                 0.706                  0.868                       0  ...   \n",
       "\n",
       "   category_grocery_pos  category_health_fitness  category_home  \\\n",
       "0                     0                        0              0   \n",
       "1                     0                        0              0   \n",
       "2                     0                        1              0   \n",
       "3                     0                        0              0   \n",
       "4                     0                        0              0   \n",
       "\n",
       "   category_kids_pets  category_misc_net  category_misc_pos  \\\n",
       "0                   0                  0                  0   \n",
       "1                   0                  0                  0   \n",
       "2                   0                  0                  0   \n",
       "3                   0                  0                  1   \n",
       "4                   0                  0                  0   \n",
       "\n",
       "   category_personal_care  category_shopping_net  category_shopping_pos  \\\n",
       "0                       1                      0                      0   \n",
       "1                       1                      0                      0   \n",
       "2                       0                      0                      0   \n",
       "3                       0                      0                      0   \n",
       "4                       0                      0                      0   \n",
       "\n",
       "   category_travel  \n",
       "0                0  \n",
       "1                0  \n",
       "2                0  \n",
       "3                0  \n",
       "4                1  \n",
       "\n",
       "[5 rows x 23 columns]"
      ]
     },
     "execution_count": 23,
     "metadata": {},
     "output_type": "execute_result"
    }
   ],
   "source": [
    "train_df.head()"
   ]
  },
  {
   "cell_type": "code",
   "execution_count": 24,
   "id": "6e224de4",
   "metadata": {
    "_cell_guid": "fbbd8e70-6278-4808-b36c-894abd3e210f",
    "_uuid": "5690ef40-4dd5-4db0-8fb1-6701d6d73df2",
    "collapsed": false,
    "execution": {
     "iopub.execute_input": "2023-09-05T10:17:44.003845Z",
     "iopub.status.busy": "2023-09-05T10:17:44.003406Z",
     "iopub.status.idle": "2023-09-05T10:17:44.029739Z",
     "shell.execute_reply": "2023-09-05T10:17:44.028389Z"
    },
    "jupyter": {
     "outputs_hidden": false
    },
    "papermill": {
     "duration": 0.048569,
     "end_time": "2023-09-05T10:17:44.032163",
     "exception": false,
     "start_time": "2023-09-05T10:17:43.983594",
     "status": "completed"
    },
    "tags": []
   },
   "outputs": [
    {
     "data": {
      "text/html": [
       "<div>\n",
       "<style scoped>\n",
       "    .dataframe tbody tr th:only-of-type {\n",
       "        vertical-align: middle;\n",
       "    }\n",
       "\n",
       "    .dataframe tbody tr th {\n",
       "        vertical-align: top;\n",
       "    }\n",
       "\n",
       "    .dataframe thead th {\n",
       "        text-align: right;\n",
       "    }\n",
       "</style>\n",
       "<table border=\"1\" class=\"dataframe\">\n",
       "  <thead>\n",
       "    <tr style=\"text-align: right;\">\n",
       "      <th></th>\n",
       "      <th>amt</th>\n",
       "      <th>gender</th>\n",
       "      <th>city_pop</th>\n",
       "      <th>is_fraud</th>\n",
       "      <th>age</th>\n",
       "      <th>trans_month</th>\n",
       "      <th>trans_year</th>\n",
       "      <th>latitudinal_distance</th>\n",
       "      <th>longitudinal_distance</th>\n",
       "      <th>category_entertainment</th>\n",
       "      <th>...</th>\n",
       "      <th>category_grocery_pos</th>\n",
       "      <th>category_health_fitness</th>\n",
       "      <th>category_home</th>\n",
       "      <th>category_kids_pets</th>\n",
       "      <th>category_misc_net</th>\n",
       "      <th>category_misc_pos</th>\n",
       "      <th>category_personal_care</th>\n",
       "      <th>category_shopping_net</th>\n",
       "      <th>category_shopping_pos</th>\n",
       "      <th>category_travel</th>\n",
       "    </tr>\n",
       "  </thead>\n",
       "  <tbody>\n",
       "    <tr>\n",
       "      <th>0</th>\n",
       "      <td>4.97</td>\n",
       "      <td>0</td>\n",
       "      <td>3495</td>\n",
       "      <td>0</td>\n",
       "      <td>30.0</td>\n",
       "      <td>0</td>\n",
       "      <td>0</td>\n",
       "      <td>0.068</td>\n",
       "      <td>0.870</td>\n",
       "      <td>0</td>\n",
       "      <td>...</td>\n",
       "      <td>0</td>\n",
       "      <td>0</td>\n",
       "      <td>0</td>\n",
       "      <td>0</td>\n",
       "      <td>1</td>\n",
       "      <td>0</td>\n",
       "      <td>0</td>\n",
       "      <td>0</td>\n",
       "      <td>0</td>\n",
       "      <td>0</td>\n",
       "    </tr>\n",
       "    <tr>\n",
       "      <th>1</th>\n",
       "      <td>107.23</td>\n",
       "      <td>0</td>\n",
       "      <td>149</td>\n",
       "      <td>0</td>\n",
       "      <td>40.0</td>\n",
       "      <td>0</td>\n",
       "      <td>0</td>\n",
       "      <td>0.271</td>\n",
       "      <td>0.024</td>\n",
       "      <td>0</td>\n",
       "      <td>...</td>\n",
       "      <td>1</td>\n",
       "      <td>0</td>\n",
       "      <td>0</td>\n",
       "      <td>0</td>\n",
       "      <td>0</td>\n",
       "      <td>0</td>\n",
       "      <td>0</td>\n",
       "      <td>0</td>\n",
       "      <td>0</td>\n",
       "      <td>0</td>\n",
       "    </tr>\n",
       "    <tr>\n",
       "      <th>2</th>\n",
       "      <td>220.11</td>\n",
       "      <td>1</td>\n",
       "      <td>4154</td>\n",
       "      <td>0</td>\n",
       "      <td>56.0</td>\n",
       "      <td>0</td>\n",
       "      <td>0</td>\n",
       "      <td>0.970</td>\n",
       "      <td>0.108</td>\n",
       "      <td>1</td>\n",
       "      <td>...</td>\n",
       "      <td>0</td>\n",
       "      <td>0</td>\n",
       "      <td>0</td>\n",
       "      <td>0</td>\n",
       "      <td>0</td>\n",
       "      <td>0</td>\n",
       "      <td>0</td>\n",
       "      <td>0</td>\n",
       "      <td>0</td>\n",
       "      <td>0</td>\n",
       "    </tr>\n",
       "    <tr>\n",
       "      <th>3</th>\n",
       "      <td>45.00</td>\n",
       "      <td>1</td>\n",
       "      <td>1939</td>\n",
       "      <td>0</td>\n",
       "      <td>51.0</td>\n",
       "      <td>0</td>\n",
       "      <td>0</td>\n",
       "      <td>0.804</td>\n",
       "      <td>0.447</td>\n",
       "      <td>0</td>\n",
       "      <td>...</td>\n",
       "      <td>0</td>\n",
       "      <td>0</td>\n",
       "      <td>0</td>\n",
       "      <td>0</td>\n",
       "      <td>0</td>\n",
       "      <td>0</td>\n",
       "      <td>0</td>\n",
       "      <td>0</td>\n",
       "      <td>0</td>\n",
       "      <td>0</td>\n",
       "    </tr>\n",
       "    <tr>\n",
       "      <th>4</th>\n",
       "      <td>41.96</td>\n",
       "      <td>1</td>\n",
       "      <td>99</td>\n",
       "      <td>0</td>\n",
       "      <td>32.0</td>\n",
       "      <td>0</td>\n",
       "      <td>0</td>\n",
       "      <td>0.254</td>\n",
       "      <td>0.830</td>\n",
       "      <td>0</td>\n",
       "      <td>...</td>\n",
       "      <td>0</td>\n",
       "      <td>0</td>\n",
       "      <td>0</td>\n",
       "      <td>0</td>\n",
       "      <td>0</td>\n",
       "      <td>1</td>\n",
       "      <td>0</td>\n",
       "      <td>0</td>\n",
       "      <td>0</td>\n",
       "      <td>0</td>\n",
       "    </tr>\n",
       "  </tbody>\n",
       "</table>\n",
       "<p>5 rows × 23 columns</p>\n",
       "</div>"
      ],
      "text/plain": [
       "      amt  gender  city_pop  is_fraud   age  trans_month  trans_year  \\\n",
       "0    4.97       0      3495         0  30.0            0           0   \n",
       "1  107.23       0       149         0  40.0            0           0   \n",
       "2  220.11       1      4154         0  56.0            0           0   \n",
       "3   45.00       1      1939         0  51.0            0           0   \n",
       "4   41.96       1        99         0  32.0            0           0   \n",
       "\n",
       "   latitudinal_distance  longitudinal_distance  category_entertainment  ...  \\\n",
       "0                 0.068                  0.870                       0  ...   \n",
       "1                 0.271                  0.024                       0  ...   \n",
       "2                 0.970                  0.108                       1  ...   \n",
       "3                 0.804                  0.447                       0  ...   \n",
       "4                 0.254                  0.830                       0  ...   \n",
       "\n",
       "   category_grocery_pos  category_health_fitness  category_home  \\\n",
       "0                     0                        0              0   \n",
       "1                     1                        0              0   \n",
       "2                     0                        0              0   \n",
       "3                     0                        0              0   \n",
       "4                     0                        0              0   \n",
       "\n",
       "   category_kids_pets  category_misc_net  category_misc_pos  \\\n",
       "0                   0                  1                  0   \n",
       "1                   0                  0                  0   \n",
       "2                   0                  0                  0   \n",
       "3                   0                  0                  0   \n",
       "4                   0                  0                  1   \n",
       "\n",
       "   category_personal_care  category_shopping_net  category_shopping_pos  \\\n",
       "0                       0                      0                      0   \n",
       "1                       0                      0                      0   \n",
       "2                       0                      0                      0   \n",
       "3                       0                      0                      0   \n",
       "4                       0                      0                      0   \n",
       "\n",
       "   category_travel  \n",
       "0                0  \n",
       "1                0  \n",
       "2                0  \n",
       "3                0  \n",
       "4                0  \n",
       "\n",
       "[5 rows x 23 columns]"
      ]
     },
     "execution_count": 24,
     "metadata": {},
     "output_type": "execute_result"
    }
   ],
   "source": [
    "test_df.head()"
   ]
  },
  {
   "cell_type": "code",
   "execution_count": 25,
   "id": "55d9a0c3",
   "metadata": {
    "_cell_guid": "eebcf1d2-5255-4ce1-aeb5-c605f2665033",
    "_uuid": "038a87da-7451-43be-bd70-a3eb17166f19",
    "collapsed": false,
    "execution": {
     "iopub.execute_input": "2023-09-05T10:17:44.106138Z",
     "iopub.status.busy": "2023-09-05T10:17:44.105752Z",
     "iopub.status.idle": "2023-09-05T10:17:44.157930Z",
     "shell.execute_reply": "2023-09-05T10:17:44.156793Z"
    },
    "jupyter": {
     "outputs_hidden": false
    },
    "papermill": {
     "duration": 0.07456,
     "end_time": "2023-09-05T10:17:44.160836",
     "exception": false,
     "start_time": "2023-09-05T10:17:44.086276",
     "status": "completed"
    },
    "tags": []
   },
   "outputs": [],
   "source": [
    "X_train = train_df.drop('is_fraud', axis=1)\n",
    "y_train = train_df['is_fraud']\n",
    "\n",
    "X_test = test_df.drop('is_fraud', axis=1)\n",
    "y_test = test_df['is_fraud']"
   ]
  },
  {
   "cell_type": "code",
   "execution_count": 26,
   "id": "2198713d",
   "metadata": {
    "_cell_guid": "e65f75ff-030b-44a0-a5f7-15b893fe329d",
    "_uuid": "e1514b1b-6084-4e6c-a38f-980b80898feb",
    "collapsed": false,
    "execution": {
     "iopub.execute_input": "2023-09-05T10:17:44.235176Z",
     "iopub.status.busy": "2023-09-05T10:17:44.234792Z",
     "iopub.status.idle": "2023-09-05T10:17:47.728758Z",
     "shell.execute_reply": "2023-09-05T10:17:47.727553Z"
    },
    "jupyter": {
     "outputs_hidden": false
    },
    "papermill": {
     "duration": 3.516285,
     "end_time": "2023-09-05T10:17:47.731677",
     "exception": false,
     "start_time": "2023-09-05T10:17:44.215392",
     "status": "completed"
    },
    "tags": []
   },
   "outputs": [],
   "source": [
    "smote = SMOTE(random_state=42)\n",
    "X_train, y_train = smote.fit_resample(X_train, y_train)"
   ]
  },
  {
   "cell_type": "code",
   "execution_count": 27,
   "id": "fde906e8",
   "metadata": {
    "_cell_guid": "23638cf0-56b3-43a7-87cf-385c6c4606d7",
    "_uuid": "d86c4e1e-d1df-44a7-a50e-309b306520c1",
    "collapsed": false,
    "execution": {
     "iopub.execute_input": "2023-09-05T10:17:47.807821Z",
     "iopub.status.busy": "2023-09-05T10:17:47.807395Z",
     "iopub.status.idle": "2023-09-05T10:17:49.041730Z",
     "shell.execute_reply": "2023-09-05T10:17:49.040749Z"
    },
    "jupyter": {
     "outputs_hidden": false
    },
    "papermill": {
     "duration": 1.256699,
     "end_time": "2023-09-05T10:17:49.044363",
     "exception": false,
     "start_time": "2023-09-05T10:17:47.787664",
     "status": "completed"
    },
    "tags": []
   },
   "outputs": [],
   "source": [
    "scaler = StandardScaler()\n",
    "scaler.fit(X_train)\n",
    "\n",
    "X_train = scaler.transform(X_train)\n",
    "X_test = scaler.transform(X_test)"
   ]
  },
  {
   "cell_type": "markdown",
   "id": "91e2704a",
   "metadata": {},
   "source": [
    "### 1. Logistic Regression"
   ]
  },
  {
   "cell_type": "code",
   "execution_count": 28,
   "id": "159e483e",
   "metadata": {},
   "outputs": [
    {
     "name": "stdout",
     "output_type": "stream",
     "text": [
      "Accuracy: 0.8646168083752676\n"
     ]
    }
   ],
   "source": [
    "from sklearn.metrics import accuracy_score\n",
    "LRModel=LogisticRegression(solver='liblinear', multi_class='auto',C=10)\n",
    "LRModel.fit(X_train, y_train)\n",
    "y_pred = LRModel.predict(X_test)\n",
    "accuracy = accuracy_score(y_test, y_pred)\n",
    "print(\"Accuracy:\", accuracy)\n",
    "score=[]\n",
    "score.append(['Logistic Regression',accuracy])\n"
   ]
  },
  {
   "cell_type": "markdown",
   "id": "ceb320af",
   "metadata": {
    "_cell_guid": "d232541e-fc8d-4747-849e-1f4308143c05",
    "_uuid": "0024ac1d-138b-4232-b53f-4babb81a4018",
    "papermill": {
     "duration": 0.018127,
     "end_time": "2023-09-05T10:17:49.117644",
     "exception": false,
     "start_time": "2023-09-05T10:17:49.099517",
     "status": "completed"
    },
    "tags": []
   },
   "source": [
    "### 2. Decision Tree"
   ]
  },
  {
   "cell_type": "code",
   "execution_count": 29,
   "id": "93e03061",
   "metadata": {
    "_cell_guid": "a73dfd14-d05e-41a4-8b1e-e8f485882b52",
    "_uuid": "becfcd08-0629-4b4c-b438-32926b2e96ca",
    "collapsed": false,
    "execution": {
     "iopub.execute_input": "2023-09-05T10:17:49.157248Z",
     "iopub.status.busy": "2023-09-05T10:17:49.156541Z",
     "iopub.status.idle": "2023-09-05T10:18:52.706545Z",
     "shell.execute_reply": "2023-09-05T10:18:52.705349Z"
    },
    "jupyter": {
     "outputs_hidden": false
    },
    "papermill": {
     "duration": 63.590442,
     "end_time": "2023-09-05T10:18:52.726834",
     "exception": false,
     "start_time": "2023-09-05T10:17:49.136392",
     "status": "completed"
    },
    "tags": []
   },
   "outputs": [
    {
     "name": "stdout",
     "output_type": "stream",
     "text": [
      "Accuracy: 0.8646168083752676\n"
     ]
    }
   ],
   "source": [
    "DTModel = DecisionTreeClassifier(random_state=42)\n",
    "DTModel.fit(X_train, y_train)\n",
    "accuracy = accuracy_score(y_test, y_pred)\n",
    "print(\"Accuracy:\", accuracy)\n",
    "score.append(['Decision TreeC Classifier',accuracy])\n"
   ]
  },
  {
   "cell_type": "markdown",
   "id": "c6721e64",
   "metadata": {
    "_cell_guid": "9c3e4f29-89fe-47ee-84b6-35edf69890f1",
    "_uuid": "bb5c31f1-0d9c-4479-8c53-c75eb2f574e1",
    "papermill": {
     "duration": 0.017603,
     "end_time": "2023-09-05T10:18:52.762307",
     "exception": false,
     "start_time": "2023-09-05T10:18:52.744704",
     "status": "completed"
    },
    "tags": []
   },
   "source": [
    "### 3. Random Forest"
   ]
  },
  {
   "cell_type": "code",
   "execution_count": 30,
   "id": "c88b6471",
   "metadata": {
    "_cell_guid": "1e8b628b-4beb-4359-80b2-6aac3616735f",
    "_uuid": "09242d22-2c03-4dcc-8dd2-404e8c3c0546",
    "collapsed": false,
    "execution": {
     "iopub.execute_input": "2023-09-05T10:18:52.800690Z",
     "iopub.status.busy": "2023-09-05T10:18:52.800298Z",
     "iopub.status.idle": "2023-09-05T10:36:38.039295Z",
     "shell.execute_reply": "2023-09-05T10:36:38.037907Z"
    },
    "jupyter": {
     "outputs_hidden": false
    },
    "papermill": {
     "duration": 1065.279421,
     "end_time": "2023-09-05T10:36:38.060055",
     "exception": false,
     "start_time": "2023-09-05T10:18:52.780634",
     "status": "completed"
    },
    "tags": []
   },
   "outputs": [
    {
     "name": "stdout",
     "output_type": "stream",
     "text": [
      "Accuracy: 0.9968403802032121\n"
     ]
    }
   ],
   "source": [
    "RFModel = RandomForestClassifier(n_estimators=100, random_state=42)\n",
    "RFModel.fit(X_train, y_train)\n",
    "y_pred = RFModel.predict(X_test)\n",
    "accuracy = accuracy_score(y_test, y_pred)\n",
    "print(\"Accuracy:\", accuracy)\n",
    "score.append(['Random Forest Classifier',accuracy])\n"
   ]
  },
  {
   "cell_type": "code",
   "execution_count": 31,
   "id": "4303a5ae",
   "metadata": {},
   "outputs": [
    {
     "data": {
      "text/plain": [
       "[['Logistic Regression', 0.8646168083752676],\n",
       " ['Decision TreeC Classifier', 0.8646168083752676],\n",
       " ['Random Forest Classifier', 0.9968403802032121]]"
      ]
     },
     "execution_count": 31,
     "metadata": {},
     "output_type": "execute_result"
    }
   ],
   "source": [
    "score"
   ]
  }
 ],
 "kernelspec": {
  "display_name": "Python 3",
  "language": "python",
  "name": "python3"
 },
 "language_info": {
  "codemirror_mode": {
   "name": "ipython",
   "version": 3
  },
  "file_extension": ".py",
  "mimetype": "text/x-python",
  "name": "python",
  "nbconvert_exporter": "python",
  "pygments_lexer": "ipython3",
  "version": "3.6.4"
 },
 "metadata": {
  "kernelspec": {
   "display_name": "Python 3",
   "language": "python",
   "name": "python3"
  },
  "language_info": {
   "codemirror_mode": {
    "name": "ipython",
    "version": 3
   },
   "file_extension": ".py",
   "mimetype": "text/x-python",
   "name": "python",
   "nbconvert_exporter": "python",
   "pygments_lexer": "ipython3",
   "version": "3.10.9"
  },
  "papermill": {
   "default_parameters": {},
   "duration": 1317.854877,
   "end_time": "2023-09-05T10:38:44.439695",
   "environment_variables": {},
   "exception": null,
   "input_path": "__notebook__.ipynb",
   "output_path": "__notebook__.ipynb",
   "parameters": {},
   "start_time": "2023-09-05T10:16:46.584818",
   "version": "2.4.0"
  }
 },
 "nbformat": 4,
 "nbformat_minor": 5
}
